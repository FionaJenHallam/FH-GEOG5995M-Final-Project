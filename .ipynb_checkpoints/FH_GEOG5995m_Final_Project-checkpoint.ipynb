{
 "cells": [
  {
   "cell_type": "markdown",
   "id": "1e1694b4-0ff8-4e25-8c21-756e23ce6972",
   "metadata": {},
   "source": [
    "# GEOG5995M Final Assignment (Template)\n",
    "\n",
    "Student ID number: "
   ]
  },
  {
   "cell_type": "raw",
   "id": "cb3b7f6c-c8a8-43e9-bb6a-7a4eebc8737f",
   "metadata": {},
   "source": [
    "Access to Health Assets and Hazards a \"a multi-dimensional index developed by the CDRC for Great Britain measuring how ‘healthy’ neighbourhoods are\n",
    "AHAH csv from https://data.cdrc.ac.uk/dataset/access-healthy-assets-hazards-ahah\n",
    "4 domains and 15 inputs are produced for Lower Level Super Output Areas (LSOAs) for England and Wales, and Data Zones (DZ) for Scotland.\n",
    "LSOA file from https://geoportal.statistics.gov.uk/datasets/ons::local-authority-district-2011-to-local-authority-district-2021-lookup-for-england-and-wales/explore"
   ]
  },
  {
   "cell_type": "code",
   "execution_count": 51,
   "id": "1d435d17-0eb5-4238-b242-8e202462c4d9",
   "metadata": {},
   "outputs": [],
   "source": [
    "# read in required packages"
   ]
  },
  {
   "cell_type": "code",
   "execution_count": 52,
   "id": "c3540d43-fbe5-48a1-9d2a-79b3c38f7bdf",
   "metadata": {},
   "outputs": [],
   "source": [
    "# import pandas package and rename to pd\n",
    "# import geopandas and rename to gpd\n",
    "import pandas as pd\n",
    "import numpy as np\n",
    "import geopandas as gpd\n",
    "import matplotlib.pyplot as plt\n",
    "import pyproj\n",
    "import contextily as ctx\n",
    "import seaborn as sns\n",
    "\n",
    "import geoplot as gplt\n",
    "import geoplot.crs as gcrs"
   ]
  },
  {
   "cell_type": "markdown",
   "id": "6fea5785-5aed-491a-ace3-5ad07d446e4c",
   "metadata": {},
   "source": [
    "This is an example block of mardown text I want to reference <a href=\"#ref1\">[1]</a>. I might need to add some more citations <a href=\"#ref2\">[2]</a><a href=\"#ref2\">[3]</a>\n",
    "\n"
   ]
  },
  {
   "cell_type": "code",
   "execution_count": 71,
   "id": "2f1ea522-b459-4bd5-ae5b-31196dbd98aa",
   "metadata": {},
   "outputs": [
    {
     "ename": "AttributeError",
     "evalue": "module 'pandas' has no attribute 'read_xlsx'",
     "output_type": "error",
     "traceback": [
      "\u001b[0;31m---------------------------------------------------------------------------\u001b[0m",
      "\u001b[0;31mAttributeError\u001b[0m                            Traceback (most recent call last)",
      "Cell \u001b[0;32mIn[71], line 2\u001b[0m\n\u001b[1;32m      1\u001b[0m \u001b[38;5;66;03m# create dataframe called 'health' by reading in csv file named\u001b[39;00m\n\u001b[0;32m----> 2\u001b[0m health \u001b[38;5;241m=\u001b[39m \u001b[43mpd\u001b[49m\u001b[38;5;241;43m.\u001b[39;49m\u001b[43mread_xlsx\u001b[49m(\u001b[38;5;124m'\u001b[39m\u001b[38;5;124m/Users/user/Documents/GEOG5995M_Programming_For_Social_Sciences/Assignment/2.Final_Project/Health_data.xlsx\u001b[39m\u001b[38;5;124m'\u001b[39m)\n",
      "\u001b[0;31mAttributeError\u001b[0m: module 'pandas' has no attribute 'read_xlsx'"
     ]
    }
   ],
   "source": [
    "# create dataframe called 'health' by reading in csv file named\n",
    "health = pd.read_xlsx('/Users/user/Documents/GEOG5995M_Programming_For_Social_Sciences/Assignment/2.Final_Project/Health_data.xlsx')"
   ]
  },
  {
   "cell_type": "code",
   "execution_count": 53,
   "id": "b4b3f4ce-f5f6-471e-ae7b-6224b75ffec4",
   "metadata": {},
   "outputs": [],
   "source": [
    "# create dataframe called 'AHAH' by reading in the csv file named 'AHAH_V3_0.csv'\n",
    "ahah = pd.read_csv('/Users/user/Documents/GEOG5995M_Programming_For_Social_Sciences/Assignment/2.Final_Project/AHAH_V3_0.csv')"
   ]
  },
  {
   "cell_type": "code",
   "execution_count": 58,
   "id": "cb7f14ec-9555-4fe6-98db-5f1f02fe65cd",
   "metadata": {},
   "outputs": [
    {
     "name": "stdout",
     "output_type": "stream",
     "text": [
      "<class 'pandas.core.frame.DataFrame'>\n",
      "RangeIndex: 41729 entries, 0 to 41728\n",
      "Data columns (total 58 columns):\n",
      " #   Column        Non-Null Count  Dtype  \n",
      "---  ------        --------------  -----  \n",
      " 0   lsoa11        41729 non-null  object \n",
      " 1   ah3gp         41729 non-null  float64\n",
      " 2   ah3dent       41729 non-null  float64\n",
      " 3   ah3phar       41729 non-null  float64\n",
      " 4   ah3hosp       41729 non-null  float64\n",
      " 5   ah3blue       41729 non-null  float64\n",
      " 6   ah3gpas       41729 non-null  float64\n",
      " 7   ah3ffood      41729 non-null  float64\n",
      " 8   ah3gamb       41729 non-null  float64\n",
      " 9   ah3leis       41729 non-null  float64\n",
      " 10  ah3pubs       41729 non-null  float64\n",
      " 11  ah3tob        41729 non-null  float64\n",
      " 12  ah3no2        41729 non-null  float64\n",
      " 13  ah3so2        41729 non-null  float64\n",
      " 14  ah3pm10       41729 non-null  float64\n",
      " 15  ah3gp_rnk     41729 non-null  int64  \n",
      " 16  ah3dent_rnk   41729 non-null  int64  \n",
      " 17  ah3phar_rnk   41729 non-null  int64  \n",
      " 18  ah3hosp_rnk   41729 non-null  int64  \n",
      " 19  ah3leis_rnk   41729 non-null  int64  \n",
      " 20  ah3gpas_rnk   41729 non-null  int64  \n",
      " 21  ah3blue_rnk   41729 non-null  int64  \n",
      " 22  ah3no2_rnk    41729 non-null  int64  \n",
      " 23  ah3so2_rnk    41729 non-null  int64  \n",
      " 24  ah3pm10_rnk   41729 non-null  int64  \n",
      " 25  ah3gamb_rnk   41729 non-null  int64  \n",
      " 26  ah3pubs_rnk   41729 non-null  int64  \n",
      " 27  ah3tob_rnk    41729 non-null  int64  \n",
      " 28  ah3ffood_rnk  41729 non-null  int64  \n",
      " 29  ah3gp_pct     41729 non-null  int64  \n",
      " 30  ah3dent_pct   41729 non-null  int64  \n",
      " 31  ah3phar_pct   41729 non-null  int64  \n",
      " 32  ah3hosp_pct   41729 non-null  int64  \n",
      " 33  ah3leis_pct   41729 non-null  int64  \n",
      " 34  ah3gpas_pct   41729 non-null  int64  \n",
      " 35  ah3blue_pct   41729 non-null  int64  \n",
      " 36  ah3no2_pct    41729 non-null  int64  \n",
      " 37  ah3so2_pct    41729 non-null  int64  \n",
      " 38  ah3pm10_pct   41729 non-null  int64  \n",
      " 39  ah3gamb_pct   41729 non-null  int64  \n",
      " 40  ah3pubs_pct   41729 non-null  int64  \n",
      " 41  ah3tob_pct    41729 non-null  int64  \n",
      " 42  ah3ffood_pct  41729 non-null  int64  \n",
      " 43  ah3h          41729 non-null  float64\n",
      " 44  ah3g          41729 non-null  float64\n",
      " 45  ah3e          41729 non-null  float64\n",
      " 46  ah3r          41729 non-null  float64\n",
      " 47  ah3h_rnk      41729 non-null  int64  \n",
      " 48  ah3g_rnk      41729 non-null  int64  \n",
      " 49  ah3e_rnk      41729 non-null  int64  \n",
      " 50  ah3r_rnk      41729 non-null  int64  \n",
      " 51  ah3h_pct      41729 non-null  int64  \n",
      " 52  ah3g_pct      41729 non-null  int64  \n",
      " 53  ah3e_pct      41729 non-null  int64  \n",
      " 54  ah3r_pct      41729 non-null  int64  \n",
      " 55  ah3ahah       41729 non-null  float64\n",
      " 56  ah3ahah_rn    41729 non-null  int64  \n",
      " 57  ah3ahah_pc    41729 non-null  int64  \n",
      "dtypes: float64(19), int64(38), object(1)\n",
      "memory usage: 18.5+ MB\n"
     ]
    }
   ],
   "source": [
    "# Check the data. Here we have 58 columns comprised of one 2011 LSOA identification column and the remaining AHAH dimension variable columns. \n",
    "# We can see from the non-null count that we have no missing data as each column has the correct number of cells matching the 41729 entries.\n",
    "# We also are able to see what data type each column is. \n",
    "ahah.info()"
   ]
  },
  {
   "cell_type": "code",
   "execution_count": 77,
   "id": "017006d7-5731-425f-b9f7-80f4063b4731",
   "metadata": {},
   "outputs": [],
   "source": [
    "# We do not need all 58 dimension columns so we will create a new dataframe containing the dimensions we are most interested in. \n",
    "# We will need the lsoa11 column and choose the health domain score, green/bluespace domain score, air quality domain score, AHAH index score\n",
    "ahah2 = ahah[['lsoa11','ah3h','ah3g','ah3e','ah3ahah']].copy()"
   ]
  },
  {
   "cell_type": "code",
   "execution_count": 79,
   "id": "1acd0a49-ee44-4ef7-aa3a-6c34b90876dd",
   "metadata": {},
   "outputs": [
    {
     "name": "stdout",
     "output_type": "stream",
     "text": [
      "<class 'pandas.core.frame.DataFrame'>\n",
      "RangeIndex: 41729 entries, 0 to 41728\n",
      "Data columns (total 5 columns):\n",
      " #   Column   Non-Null Count  Dtype  \n",
      "---  ------   --------------  -----  \n",
      " 0   lsoa11   41729 non-null  object \n",
      " 1   ah3h     41729 non-null  float64\n",
      " 2   ah3g     41729 non-null  float64\n",
      " 3   ah3e     41729 non-null  float64\n",
      " 4   ah3ahah  41729 non-null  float64\n",
      "dtypes: float64(4), object(1)\n",
      "memory usage: 1.6+ MB\n"
     ]
    }
   ],
   "source": [
    "ahah2.info()"
   ]
  },
  {
   "cell_type": "code",
   "execution_count": 80,
   "id": "4d8b5d2c-3e36-4459-be72-54468d4a5f1d",
   "metadata": {},
   "outputs": [],
   "source": [
    "# Read in a data file so we can match up area codes\n",
    "national = pd.read_csv('/Users/user/Documents/GEOG5995M_Programming_For_Social_Sciences/Assignment/2.Final_Project/LSOA_(2011)_to_LSOA_(2021)England_and_Wales.csv')"
   ]
  },
  {
   "cell_type": "code",
   "execution_count": 81,
   "id": "164d5562-a7bf-449d-ac71-2fe7b54281ee",
   "metadata": {},
   "outputs": [
    {
     "name": "stdout",
     "output_type": "stream",
     "text": [
      "<class 'pandas.core.frame.DataFrame'>\n",
      "RangeIndex: 35796 entries, 0 to 35795\n",
      "Data columns (total 9 columns):\n",
      " #   Column    Non-Null Count  Dtype \n",
      "---  ------    --------------  ----- \n",
      " 0   LSOA11CD  35796 non-null  object\n",
      " 1   LSOA11NM  35796 non-null  object\n",
      " 2   LSOA21CD  35796 non-null  object\n",
      " 3   LSOA21NM  35796 non-null  object\n",
      " 4   CHGIND    35796 non-null  object\n",
      " 5   LAD22CD   35796 non-null  object\n",
      " 6   LAD22NM   35796 non-null  object\n",
      " 7   LAD22NMW  1940 non-null   object\n",
      " 8   ObjectId  35796 non-null  int64 \n",
      "dtypes: int64(1), object(8)\n",
      "memory usage: 2.5+ MB\n"
     ]
    }
   ],
   "source": [
    "# Check the data\n",
    "national.info()"
   ]
  },
  {
   "cell_type": "code",
   "execution_count": 82,
   "id": "27b5041e-b068-4446-beda-c136a61f85d7",
   "metadata": {},
   "outputs": [],
   "source": [
    "# Create a new dataframe called 'York' by only reading in 'York' data from the national dataframe's 'LAD22NM' column\n",
    "york = national[(national['LAD22NM'] == 'York')]"
   ]
  },
  {
   "cell_type": "code",
   "execution_count": 83,
   "id": "495ad94f-969b-4b9a-a800-0df3a7836c39",
   "metadata": {},
   "outputs": [
    {
     "data": {
      "text/html": [
       "<div>\n",
       "<style scoped>\n",
       "    .dataframe tbody tr th:only-of-type {\n",
       "        vertical-align: middle;\n",
       "    }\n",
       "\n",
       "    .dataframe tbody tr th {\n",
       "        vertical-align: top;\n",
       "    }\n",
       "\n",
       "    .dataframe thead th {\n",
       "        text-align: right;\n",
       "    }\n",
       "</style>\n",
       "<table border=\"1\" class=\"dataframe\">\n",
       "  <thead>\n",
       "    <tr style=\"text-align: right;\">\n",
       "      <th></th>\n",
       "      <th>LSOA11CD</th>\n",
       "      <th>LSOA11NM</th>\n",
       "      <th>LSOA21CD</th>\n",
       "      <th>LSOA21NM</th>\n",
       "      <th>CHGIND</th>\n",
       "      <th>LAD22CD</th>\n",
       "      <th>LAD22NM</th>\n",
       "      <th>LAD22NMW</th>\n",
       "      <th>ObjectId</th>\n",
       "    </tr>\n",
       "  </thead>\n",
       "  <tbody>\n",
       "    <tr>\n",
       "      <th>12408</th>\n",
       "      <td>E01013428</td>\n",
       "      <td>York 006A</td>\n",
       "      <td>E01013428</td>\n",
       "      <td>York 006A</td>\n",
       "      <td>U</td>\n",
       "      <td>E06000014</td>\n",
       "      <td>York</td>\n",
       "      <td>NaN</td>\n",
       "      <td>12409</td>\n",
       "    </tr>\n",
       "    <tr>\n",
       "      <th>12415</th>\n",
       "      <td>E01013429</td>\n",
       "      <td>York 006B</td>\n",
       "      <td>E01013429</td>\n",
       "      <td>York 006B</td>\n",
       "      <td>U</td>\n",
       "      <td>E06000014</td>\n",
       "      <td>York</td>\n",
       "      <td>NaN</td>\n",
       "      <td>12416</td>\n",
       "    </tr>\n",
       "    <tr>\n",
       "      <th>12421</th>\n",
       "      <td>E01013430</td>\n",
       "      <td>York 006C</td>\n",
       "      <td>E01013430</td>\n",
       "      <td>York 006C</td>\n",
       "      <td>U</td>\n",
       "      <td>E06000014</td>\n",
       "      <td>York</td>\n",
       "      <td>NaN</td>\n",
       "      <td>12422</td>\n",
       "    </tr>\n",
       "    <tr>\n",
       "      <th>12425</th>\n",
       "      <td>E01013431</td>\n",
       "      <td>York 006D</td>\n",
       "      <td>E01013431</td>\n",
       "      <td>York 006D</td>\n",
       "      <td>U</td>\n",
       "      <td>E06000014</td>\n",
       "      <td>York</td>\n",
       "      <td>NaN</td>\n",
       "      <td>12426</td>\n",
       "    </tr>\n",
       "    <tr>\n",
       "      <th>12427</th>\n",
       "      <td>E01013432</td>\n",
       "      <td>York 007C</td>\n",
       "      <td>E01013432</td>\n",
       "      <td>York 007C</td>\n",
       "      <td>U</td>\n",
       "      <td>E06000014</td>\n",
       "      <td>York</td>\n",
       "      <td>NaN</td>\n",
       "      <td>12428</td>\n",
       "    </tr>\n",
       "  </tbody>\n",
       "</table>\n",
       "</div>"
      ],
      "text/plain": [
       "        LSOA11CD   LSOA11NM   LSOA21CD   LSOA21NM CHGIND    LAD22CD LAD22NM  \\\n",
       "12408  E01013428  York 006A  E01013428  York 006A      U  E06000014    York   \n",
       "12415  E01013429  York 006B  E01013429  York 006B      U  E06000014    York   \n",
       "12421  E01013430  York 006C  E01013430  York 006C      U  E06000014    York   \n",
       "12425  E01013431  York 006D  E01013431  York 006D      U  E06000014    York   \n",
       "12427  E01013432  York 007C  E01013432  York 007C      U  E06000014    York   \n",
       "\n",
       "      LAD22NMW  ObjectId  \n",
       "12408      NaN     12409  \n",
       "12415      NaN     12416  \n",
       "12421      NaN     12422  \n",
       "12425      NaN     12426  \n",
       "12427      NaN     12428  "
      ]
     },
     "execution_count": 83,
     "metadata": {},
     "output_type": "execute_result"
    }
   ],
   "source": [
    "# Confirm it worked by checking that the first 5 rows in the dataframe include 'York' in the LAD22NM column\n",
    "york.head()"
   ]
  },
  {
   "cell_type": "code",
   "execution_count": 84,
   "id": "d821c493-cdb7-4499-8a00-385e58f26f6d",
   "metadata": {},
   "outputs": [
    {
     "name": "stdout",
     "output_type": "stream",
     "text": [
      "<class 'pandas.core.frame.DataFrame'>\n",
      "Index: 121 entries, 12408 to 33147\n",
      "Data columns (total 9 columns):\n",
      " #   Column    Non-Null Count  Dtype \n",
      "---  ------    --------------  ----- \n",
      " 0   LSOA11CD  121 non-null    object\n",
      " 1   LSOA11NM  121 non-null    object\n",
      " 2   LSOA21CD  121 non-null    object\n",
      " 3   LSOA21NM  121 non-null    object\n",
      " 4   CHGIND    121 non-null    object\n",
      " 5   LAD22CD   121 non-null    object\n",
      " 6   LAD22NM   121 non-null    object\n",
      " 7   LAD22NMW  0 non-null      object\n",
      " 8   ObjectId  121 non-null    int64 \n",
      "dtypes: int64(1), object(8)\n",
      "memory usage: 9.5+ KB\n"
     ]
    }
   ],
   "source": [
    "# Now to clean up the table. First look at the columns and then remove any not needed\n",
    "york.info()"
   ]
  },
  {
   "cell_type": "code",
   "execution_count": 85,
   "id": "8f902af0-0a4a-4486-a57b-7bb75de0c9af",
   "metadata": {},
   "outputs": [],
   "source": [
    "# Remove columns containing 2021 data and the LAD22NMW column as this does not contain any data\n",
    "york2 = york.drop(['LSOA21CD','LSOA21NM','LAD22NMW'], axis = 1)"
   ]
  },
  {
   "cell_type": "code",
   "execution_count": 86,
   "id": "7330cc9f-f56d-4bbe-9de1-e43228580a40",
   "metadata": {},
   "outputs": [
    {
     "name": "stdout",
     "output_type": "stream",
     "text": [
      "<class 'pandas.core.frame.DataFrame'>\n",
      "Index: 121 entries, 12408 to 33147\n",
      "Data columns (total 6 columns):\n",
      " #   Column    Non-Null Count  Dtype \n",
      "---  ------    --------------  ----- \n",
      " 0   LSOA11CD  121 non-null    object\n",
      " 1   LSOA11NM  121 non-null    object\n",
      " 2   CHGIND    121 non-null    object\n",
      " 3   LAD22CD   121 non-null    object\n",
      " 4   LAD22NM   121 non-null    object\n",
      " 5   ObjectId  121 non-null    int64 \n",
      "dtypes: int64(1), object(5)\n",
      "memory usage: 6.6+ KB\n"
     ]
    }
   ],
   "source": [
    "# Check it worked. We removed 3 columns so the total has gone down from 9 to 6.\n",
    "york2.info()"
   ]
  },
  {
   "cell_type": "code",
   "execution_count": 88,
   "id": "d6b6aa2f-871a-497f-a228-960ca2290e38",
   "metadata": {},
   "outputs": [
    {
     "data": {
      "text/html": [
       "<div>\n",
       "<style scoped>\n",
       "    .dataframe tbody tr th:only-of-type {\n",
       "        vertical-align: middle;\n",
       "    }\n",
       "\n",
       "    .dataframe tbody tr th {\n",
       "        vertical-align: top;\n",
       "    }\n",
       "\n",
       "    .dataframe thead th {\n",
       "        text-align: right;\n",
       "    }\n",
       "</style>\n",
       "<table border=\"1\" class=\"dataframe\">\n",
       "  <thead>\n",
       "    <tr style=\"text-align: right;\">\n",
       "      <th></th>\n",
       "      <th>LSOA11CD</th>\n",
       "      <th>LSOA11NM</th>\n",
       "      <th>CHGIND</th>\n",
       "      <th>LAD22CD</th>\n",
       "      <th>LAD22NM</th>\n",
       "      <th>ObjectId</th>\n",
       "      <th>lsoa11</th>\n",
       "      <th>ah3h</th>\n",
       "      <th>ah3g</th>\n",
       "      <th>ah3e</th>\n",
       "      <th>ah3ahah</th>\n",
       "    </tr>\n",
       "  </thead>\n",
       "  <tbody>\n",
       "    <tr>\n",
       "      <th>0</th>\n",
       "      <td>E01013428</td>\n",
       "      <td>York 006A</td>\n",
       "      <td>U</td>\n",
       "      <td>E06000014</td>\n",
       "      <td>York</td>\n",
       "      <td>12409</td>\n",
       "      <td>E01013428</td>\n",
       "      <td>0.298562</td>\n",
       "      <td>0.151518</td>\n",
       "      <td>-0.124521</td>\n",
       "      <td>17.085668</td>\n",
       "    </tr>\n",
       "    <tr>\n",
       "      <th>1</th>\n",
       "      <td>E01013429</td>\n",
       "      <td>York 006B</td>\n",
       "      <td>U</td>\n",
       "      <td>E06000014</td>\n",
       "      <td>York</td>\n",
       "      <td>12416</td>\n",
       "      <td>E01013429</td>\n",
       "      <td>-0.053671</td>\n",
       "      <td>-0.189667</td>\n",
       "      <td>-0.391200</td>\n",
       "      <td>10.014081</td>\n",
       "    </tr>\n",
       "    <tr>\n",
       "      <th>2</th>\n",
       "      <td>E01013430</td>\n",
       "      <td>York 006C</td>\n",
       "      <td>U</td>\n",
       "      <td>E06000014</td>\n",
       "      <td>York</td>\n",
       "      <td>12422</td>\n",
       "      <td>E01013430</td>\n",
       "      <td>0.791085</td>\n",
       "      <td>-0.489189</td>\n",
       "      <td>-0.523431</td>\n",
       "      <td>14.073578</td>\n",
       "    </tr>\n",
       "    <tr>\n",
       "      <th>3</th>\n",
       "      <td>E01013431</td>\n",
       "      <td>York 006D</td>\n",
       "      <td>U</td>\n",
       "      <td>E06000014</td>\n",
       "      <td>York</td>\n",
       "      <td>12426</td>\n",
       "      <td>E01013431</td>\n",
       "      <td>-0.186099</td>\n",
       "      <td>0.294428</td>\n",
       "      <td>-0.134309</td>\n",
       "      <td>14.475337</td>\n",
       "    </tr>\n",
       "    <tr>\n",
       "      <th>4</th>\n",
       "      <td>E01013432</td>\n",
       "      <td>York 007C</td>\n",
       "      <td>U</td>\n",
       "      <td>E06000014</td>\n",
       "      <td>York</td>\n",
       "      <td>12428</td>\n",
       "      <td>E01013432</td>\n",
       "      <td>0.143721</td>\n",
       "      <td>-0.147138</td>\n",
       "      <td>-0.342039</td>\n",
       "      <td>12.028219</td>\n",
       "    </tr>\n",
       "    <tr>\n",
       "      <th>...</th>\n",
       "      <td>...</td>\n",
       "      <td>...</td>\n",
       "      <td>...</td>\n",
       "      <td>...</td>\n",
       "      <td>...</td>\n",
       "      <td>...</td>\n",
       "      <td>...</td>\n",
       "      <td>...</td>\n",
       "      <td>...</td>\n",
       "      <td>...</td>\n",
       "      <td>...</td>\n",
       "    </tr>\n",
       "    <tr>\n",
       "      <th>116</th>\n",
       "      <td>E01033068</td>\n",
       "      <td>York 013G</td>\n",
       "      <td>U</td>\n",
       "      <td>E06000014</td>\n",
       "      <td>York</td>\n",
       "      <td>31395</td>\n",
       "      <td>E01033068</td>\n",
       "      <td>-1.309191</td>\n",
       "      <td>0.114354</td>\n",
       "      <td>-0.097985</td>\n",
       "      <td>26.857438</td>\n",
       "    </tr>\n",
       "    <tr>\n",
       "      <th>117</th>\n",
       "      <td>E01033069</td>\n",
       "      <td>York 013H</td>\n",
       "      <td>U</td>\n",
       "      <td>E06000014</td>\n",
       "      <td>York</td>\n",
       "      <td>31405</td>\n",
       "      <td>E01033069</td>\n",
       "      <td>-1.035699</td>\n",
       "      <td>-0.090876</td>\n",
       "      <td>-0.162730</td>\n",
       "      <td>27.469509</td>\n",
       "    </tr>\n",
       "    <tr>\n",
       "      <th>118</th>\n",
       "      <td>E01033070</td>\n",
       "      <td>York 013I</td>\n",
       "      <td>U</td>\n",
       "      <td>E06000014</td>\n",
       "      <td>York</td>\n",
       "      <td>31415</td>\n",
       "      <td>E01033070</td>\n",
       "      <td>-1.862147</td>\n",
       "      <td>0.072469</td>\n",
       "      <td>-0.024825</td>\n",
       "      <td>32.508178</td>\n",
       "    </tr>\n",
       "    <tr>\n",
       "      <th>119</th>\n",
       "      <td>E01013365</td>\n",
       "      <td>York 023A</td>\n",
       "      <td>S</td>\n",
       "      <td>E06000014</td>\n",
       "      <td>York</td>\n",
       "      <td>33147</td>\n",
       "      <td>E01013365</td>\n",
       "      <td>0.414843</td>\n",
       "      <td>-0.410215</td>\n",
       "      <td>-0.326714</td>\n",
       "      <td>13.166565</td>\n",
       "    </tr>\n",
       "    <tr>\n",
       "      <th>120</th>\n",
       "      <td>E01013365</td>\n",
       "      <td>York 023A</td>\n",
       "      <td>S</td>\n",
       "      <td>E06000014</td>\n",
       "      <td>York</td>\n",
       "      <td>33148</td>\n",
       "      <td>E01013365</td>\n",
       "      <td>0.414843</td>\n",
       "      <td>-0.410215</td>\n",
       "      <td>-0.326714</td>\n",
       "      <td>13.166565</td>\n",
       "    </tr>\n",
       "  </tbody>\n",
       "</table>\n",
       "<p>121 rows × 11 columns</p>\n",
       "</div>"
      ],
      "text/plain": [
       "      LSOA11CD   LSOA11NM CHGIND    LAD22CD LAD22NM  ObjectId     lsoa11  \\\n",
       "0    E01013428  York 006A      U  E06000014    York     12409  E01013428   \n",
       "1    E01013429  York 006B      U  E06000014    York     12416  E01013429   \n",
       "2    E01013430  York 006C      U  E06000014    York     12422  E01013430   \n",
       "3    E01013431  York 006D      U  E06000014    York     12426  E01013431   \n",
       "4    E01013432  York 007C      U  E06000014    York     12428  E01013432   \n",
       "..         ...        ...    ...        ...     ...       ...        ...   \n",
       "116  E01033068  York 013G      U  E06000014    York     31395  E01033068   \n",
       "117  E01033069  York 013H      U  E06000014    York     31405  E01033069   \n",
       "118  E01033070  York 013I      U  E06000014    York     31415  E01033070   \n",
       "119  E01013365  York 023A      S  E06000014    York     33147  E01013365   \n",
       "120  E01013365  York 023A      S  E06000014    York     33148  E01013365   \n",
       "\n",
       "         ah3h      ah3g      ah3e    ah3ahah  \n",
       "0    0.298562  0.151518 -0.124521  17.085668  \n",
       "1   -0.053671 -0.189667 -0.391200  10.014081  \n",
       "2    0.791085 -0.489189 -0.523431  14.073578  \n",
       "3   -0.186099  0.294428 -0.134309  14.475337  \n",
       "4    0.143721 -0.147138 -0.342039  12.028219  \n",
       "..        ...       ...       ...        ...  \n",
       "116 -1.309191  0.114354 -0.097985  26.857438  \n",
       "117 -1.035699 -0.090876 -0.162730  27.469509  \n",
       "118 -1.862147  0.072469 -0.024825  32.508178  \n",
       "119  0.414843 -0.410215 -0.326714  13.166565  \n",
       "120  0.414843 -0.410215 -0.326714  13.166565  \n",
       "\n",
       "[121 rows x 11 columns]"
      ]
     },
     "execution_count": 88,
     "metadata": {},
     "output_type": "execute_result"
    }
   ],
   "source": [
    "# Now merge dataframes by joining ahah onto york2 (york2 being left) by using LSOA code as merger\n",
    "# We should have our six columns from the york2 dataframe along with the 5 columns making up the ahah2 dataframe\n",
    "york2.merge(ahah2, left_on='LSOA11CD', right_on='lsoa11')"
   ]
  },
  {
   "cell_type": "code",
   "execution_count": 55,
   "id": "b85dd104-073f-4828-8290-e7dfdb8ca1c3",
   "metadata": {},
   "outputs": [],
   "source": [
    "geoyork = gpd.read_file('/Users/user/Documents/GEOG5995M_Programming_For_Social_Sciences/Assignment/2.Final_Project/Output_Area_Classification_2011/Local_Authority_Districts/E06000014/shapefiles/E06000014.shp')"
   ]
  },
  {
   "cell_type": "code",
   "execution_count": 56,
   "id": "0b1b2d5a-c388-4199-a4b0-8f3aad0cacdb",
   "metadata": {},
   "outputs": [
    {
     "name": "stdout",
     "output_type": "stream",
     "text": [
      "<class 'geopandas.geodataframe.GeoDataFrame'>\n",
      "RangeIndex: 637 entries, 0 to 636\n",
      "Data columns (total 3 columns):\n",
      " #   Column    Non-Null Count  Dtype   \n",
      "---  ------    --------------  -----   \n",
      " 0   oa11cd    637 non-null    object  \n",
      " 1   lsoa11cd  637 non-null    object  \n",
      " 2   geometry  637 non-null    geometry\n",
      "dtypes: geometry(1), object(2)\n",
      "memory usage: 15.1+ KB\n"
     ]
    }
   ],
   "source": [
    "geoyork.info()"
   ]
  },
  {
   "cell_type": "markdown",
   "id": "4806cdd0-3484-45dd-b139-f36e28ce77a9",
   "metadata": {},
   "source": [
    "Data Visualisation\n",
    "- Don't forget to present your final two data visualisation (one spatial and one non-spatial) and the justifications about the deicsisions you made whilst preparing and visualising the data."
   ]
  },
  {
   "cell_type": "code",
   "execution_count": 57,
   "id": "cba9bc3e-33e2-44b1-b8a6-47242500eb32",
   "metadata": {},
   "outputs": [
    {
     "data": {
      "text/html": [
       "<div>\n",
       "<style scoped>\n",
       "    .dataframe tbody tr th:only-of-type {\n",
       "        vertical-align: middle;\n",
       "    }\n",
       "\n",
       "    .dataframe tbody tr th {\n",
       "        vertical-align: top;\n",
       "    }\n",
       "\n",
       "    .dataframe thead th {\n",
       "        text-align: right;\n",
       "    }\n",
       "</style>\n",
       "<table border=\"1\" class=\"dataframe\">\n",
       "  <thead>\n",
       "    <tr style=\"text-align: right;\">\n",
       "      <th></th>\n",
       "      <th>oa11cd</th>\n",
       "      <th>lsoa11cd</th>\n",
       "      <th>geometry</th>\n",
       "    </tr>\n",
       "  </thead>\n",
       "  <tbody>\n",
       "    <tr>\n",
       "      <th>0</th>\n",
       "      <td>E00067299</td>\n",
       "      <td>E01013335</td>\n",
       "      <td>POLYGON ((457218.959 452203.985, 457210.522 45...</td>\n",
       "    </tr>\n",
       "    <tr>\n",
       "      <th>1</th>\n",
       "      <td>E00067300</td>\n",
       "      <td>E01013337</td>\n",
       "      <td>POLYGON ((456899.692 451950.658, 456898.978 45...</td>\n",
       "    </tr>\n",
       "    <tr>\n",
       "      <th>2</th>\n",
       "      <td>E00067301</td>\n",
       "      <td>E01013339</td>\n",
       "      <td>POLYGON ((457270.101 452710.928, 457272.232 45...</td>\n",
       "    </tr>\n",
       "    <tr>\n",
       "      <th>3</th>\n",
       "      <td>E00067302</td>\n",
       "      <td>E01013339</td>\n",
       "      <td>POLYGON ((456861.658 452647.570, 456853.780 45...</td>\n",
       "    </tr>\n",
       "    <tr>\n",
       "      <th>4</th>\n",
       "      <td>E00067303</td>\n",
       "      <td>E01013339</td>\n",
       "      <td>POLYGON ((457084.777 452564.766, 457084.000 45...</td>\n",
       "    </tr>\n",
       "  </tbody>\n",
       "</table>\n",
       "</div>"
      ],
      "text/plain": [
       "      oa11cd   lsoa11cd                                           geometry\n",
       "0  E00067299  E01013335  POLYGON ((457218.959 452203.985, 457210.522 45...\n",
       "1  E00067300  E01013337  POLYGON ((456899.692 451950.658, 456898.978 45...\n",
       "2  E00067301  E01013339  POLYGON ((457270.101 452710.928, 457272.232 45...\n",
       "3  E00067302  E01013339  POLYGON ((456861.658 452647.570, 456853.780 45...\n",
       "4  E00067303  E01013339  POLYGON ((457084.777 452564.766, 457084.000 45..."
      ]
     },
     "execution_count": 57,
     "metadata": {},
     "output_type": "execute_result"
    }
   ],
   "source": [
    "geoyork.head()"
   ]
  },
  {
   "cell_type": "code",
   "execution_count": null,
   "id": "02f2b8d5-c223-4328-abd3-ea5a6678b910",
   "metadata": {},
   "outputs": [],
   "source": []
  },
  {
   "cell_type": "markdown",
   "id": "393446de-c2bd-47d1-828a-5b60ec65b8c6",
   "metadata": {},
   "source": [
    "## References\n",
    "<p><a href=\"add_url_here\">[1]</a>Footnote citation goes here</p>\n",
    "<p><a href=\"https://github.com/FrancescaPontin/GEOG5995\">[2]</a>GEOG5995M course materials</p>\n",
    "<p><a href=\"add_url_here\">[3]</a>Citation 3</p>"
   ]
  },
  {
   "cell_type": "code",
   "execution_count": null,
   "id": "e902a5a4-c810-4cb0-883d-be558f696c8b",
   "metadata": {},
   "outputs": [],
   "source": []
  }
 ],
 "metadata": {
  "kernelspec": {
   "display_name": "Python 3 (ipykernel)",
   "language": "python",
   "name": "python3"
  },
  "language_info": {
   "codemirror_mode": {
    "name": "ipython",
    "version": 3
   },
   "file_extension": ".py",
   "mimetype": "text/x-python",
   "name": "python",
   "nbconvert_exporter": "python",
   "pygments_lexer": "ipython3",
   "version": "3.11.6"
  }
 },
 "nbformat": 4,
 "nbformat_minor": 5
}
